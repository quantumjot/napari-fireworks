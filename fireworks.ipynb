{
 "cells": [
  {
   "cell_type": "markdown",
   "id": "2c9de237",
   "metadata": {},
   "source": [
    "# napari fireworks"
   ]
  },
  {
   "cell_type": "code",
   "execution_count": 1,
   "id": "17ad7313",
   "metadata": {},
   "outputs": [],
   "source": [
    "import napari\n",
    "\n",
    "import numpy as np"
   ]
  },
  {
   "cell_type": "markdown",
   "id": "48d11115",
   "metadata": {},
   "source": [
    "$x=v_0 t \\cos (\\theta) \\\\\n",
    "y=v_0 t \\sin (\\theta) - \\frac{1}{2}gt^2$"
   ]
  },
  {
   "cell_type": "code",
   "execution_count": 2,
   "id": "6325b709",
   "metadata": {},
   "outputs": [],
   "source": [
    "rng = np.random.default_rng()"
   ]
  },
  {
   "cell_type": "code",
   "execution_count": 3,
   "id": "0f2a3fd2",
   "metadata": {},
   "outputs": [],
   "source": [
    "def firework(\n",
    "    x0: float, \n",
    "    y0: float, \n",
    "    t0: float, \n",
    "    v0: float, \n",
    "    theta: float, \n",
    "    *, \n",
    "    n: int = 100\n",
    ") -> np.ndarray:\n",
    "    \"\"\"Parabolic trajectory.\"\"\"\n",
    "    g = 9.8\n",
    "    \n",
    "    t = np.arange(t0, t0+n)\n",
    "    dt = t - t0\n",
    "    x = x0 + v0*dt*np.cos(theta)\n",
    "    y = y0 + v0*dt*np.sin(theta) - (0.5*g*dt**2)\n",
    "    \n",
    "    y = np.clip(y, 0, np.inf)\n",
    "    \n",
    "    return np.stack([t, y, x], axis=-1)"
   ]
  },
  {
   "cell_type": "markdown",
   "id": "15e31331",
   "metadata": {},
   "source": [
    "### simulate a fireworks display"
   ]
  },
  {
   "cell_type": "code",
   "execution_count": 4,
   "id": "06ef53f2",
   "metadata": {},
   "outputs": [],
   "source": [
    "N_FIREWORKS = 500\n",
    "N_SPARKS_PER_FIREWORK = 30\n",
    "\n",
    "data = []\n",
    "idx = 1\n",
    "\n",
    "for i in range(N_FIREWORKS):\n",
    "    \n",
    "    # simulate a firework and append it to the track list\n",
    "    xy = (0, 0)\n",
    "    t = rng.integers(0, 300)\n",
    "    sgn = rng.choice([-1, 1])\n",
    "    theta = rng.uniform(np.pi/3, np.pi/2) \n",
    "    v = rng.uniform(1000., 3000.)\n",
    "    \n",
    "    d = firework(*xy, t, v, theta)\n",
    "    d[:, -1] = d[:, -1] * sgn\n",
    "    d = np.concatenate([np.ones((d.shape[0], 1)) * idx, d], axis=1)\n",
    "    data.append(d)\n",
    "    \n",
    "    # for each firework, pick a point and initialize a bunch of fireworklets (sparks)\n",
    "    ridx = rng.integers(90, 100)\n",
    "    p = d[ridx, :]\n",
    "    \n",
    "    for j in range(N_SPARKS_PER_FIREWORK):\n",
    "        idx += 1\n",
    "        theta = rng.uniform(np.pi/4, np.pi/2)\n",
    "        sgn = rng.choice([-1, 1])\n",
    "        v = rng.uniform(100., 500.)\n",
    "        _d = firework(p[3], p[2], p[1], v, theta, n=100)\n",
    "        _d[:, -1] = _d[:, -1] * sgn\n",
    "        _d = np.concatenate([np.ones((_d.shape[0], 1)) * idx, _d], axis=1)\n",
    "        data.append(_d)\n",
    "    \n",
    "    idx+=1\n",
    "    \n",
    "data = np.concatenate(data, axis=0)\n",
    "\n",
    "data[:, 2] = -data[:, 2]"
   ]
  },
  {
   "cell_type": "markdown",
   "id": "64e8a6b5",
   "metadata": {},
   "source": [
    "### visualize it in napari using the Tracks layer"
   ]
  },
  {
   "cell_type": "code",
   "execution_count": 6,
   "id": "b7eefe9a",
   "metadata": {},
   "outputs": [
    {
     "data": {
      "text/plain": [
       "<Tracks layer 'fireworks' at 0x16d772ee0>"
      ]
     },
     "execution_count": 6,
     "metadata": {},
     "output_type": "execute_result"
    }
   ],
   "source": [
    "viewer = napari.Viewer()\n",
    "viewer.add_tracks(data, name=\"fireworks\")"
   ]
  },
  {
   "cell_type": "code",
   "execution_count": null,
   "id": "67677001",
   "metadata": {},
   "outputs": [],
   "source": []
  }
 ],
 "metadata": {
  "kernelspec": {
   "display_name": "Python [conda env:napari]",
   "language": "python",
   "name": "conda-env-napari-py"
  },
  "language_info": {
   "codemirror_mode": {
    "name": "ipython",
    "version": 3
   },
   "file_extension": ".py",
   "mimetype": "text/x-python",
   "name": "python",
   "nbconvert_exporter": "python",
   "pygments_lexer": "ipython3",
   "version": "3.9.9"
  }
 },
 "nbformat": 4,
 "nbformat_minor": 5
}
